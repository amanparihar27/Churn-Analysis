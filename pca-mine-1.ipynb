{
 "cells": [
  {
   "cell_type": "code",
   "execution_count": 1,
   "id": "7ba78e50",
   "metadata": {
    "_cell_guid": "b1076dfc-b9ad-4769-8c92-a6c4dae69d19",
    "_uuid": "8f2839f25d086af736a60e9eeb907d3b93b6e0e5",
    "execution": {
     "iopub.execute_input": "2025-04-19T16:24:07.457021Z",
     "iopub.status.busy": "2025-04-19T16:24:07.456130Z",
     "iopub.status.idle": "2025-04-19T16:24:09.404452Z",
     "shell.execute_reply": "2025-04-19T16:24:09.403356Z"
    },
    "papermill": {
     "duration": 1.958051,
     "end_time": "2025-04-19T16:24:09.406086",
     "exception": false,
     "start_time": "2025-04-19T16:24:07.448035",
     "status": "completed"
    },
    "tags": []
   },
   "outputs": [
    {
     "name": "stdout",
     "output_type": "stream",
     "text": [
      "/kaggle/input/digit-recognizer/sample_submission.csv\n",
      "/kaggle/input/digit-recognizer/train.csv\n",
      "/kaggle/input/digit-recognizer/test.csv\n"
     ]
    }
   ],
   "source": [
    "# This Python 3 environment comes with many helpful analytics libraries installed\n",
    "# It is defined by the kaggle/python Docker image: https://github.com/kaggle/docker-python\n",
    "# For example, here's several helpful packages to load\n",
    "\n",
    "import numpy as np # linear algebra\n",
    "import pandas as pd # data processing, CSV file I/O (e.g. pd.read_csv)\n",
    "\n",
    "# Input data files are available in the read-only \"../input/\" directory\n",
    "# For example, running this (by clicking run or pressing Shift+Enter) will list all files under the input directory\n",
    "\n",
    "import os\n",
    "for dirname, _, filenames in os.walk('/kaggle/input'):\n",
    "    for filename in filenames:\n",
    "        print(os.path.join(dirname, filename))\n",
    "\n",
    "# You can write up to 20GB to the current directory (/kaggle/working/) that gets preserved as output when you create a version using \"Save & Run All\" \n",
    "# You can also write temporary files to /kaggle/temp/, but they won't be saved outside of the current session"
   ]
  },
  {
   "cell_type": "code",
   "execution_count": 2,
   "id": "f6f28a1d",
   "metadata": {
    "execution": {
     "iopub.execute_input": "2025-04-19T16:24:09.420037Z",
     "iopub.status.busy": "2025-04-19T16:24:09.419611Z",
     "iopub.status.idle": "2025-04-19T16:24:12.798670Z",
     "shell.execute_reply": "2025-04-19T16:24:12.797737Z"
    },
    "papermill": {
     "duration": 3.387654,
     "end_time": "2025-04-19T16:24:12.800342",
     "exception": false,
     "start_time": "2025-04-19T16:24:09.412688",
     "status": "completed"
    },
    "tags": []
   },
   "outputs": [],
   "source": [
    "df=pd.read_csv('/kaggle/input/digit-recognizer/train.csv')"
   ]
  },
  {
   "cell_type": "code",
   "execution_count": 3,
   "id": "df6f7ace",
   "metadata": {
    "execution": {
     "iopub.execute_input": "2025-04-19T16:24:12.816334Z",
     "iopub.status.busy": "2025-04-19T16:24:12.815510Z",
     "iopub.status.idle": "2025-04-19T16:24:12.844594Z",
     "shell.execute_reply": "2025-04-19T16:24:12.843595Z"
    },
    "papermill": {
     "duration": 0.038403,
     "end_time": "2025-04-19T16:24:12.846254",
     "exception": false,
     "start_time": "2025-04-19T16:24:12.807851",
     "status": "completed"
    },
    "tags": []
   },
   "outputs": [
    {
     "data": {
      "text/html": [
       "<div>\n",
       "<style scoped>\n",
       "    .dataframe tbody tr th:only-of-type {\n",
       "        vertical-align: middle;\n",
       "    }\n",
       "\n",
       "    .dataframe tbody tr th {\n",
       "        vertical-align: top;\n",
       "    }\n",
       "\n",
       "    .dataframe thead th {\n",
       "        text-align: right;\n",
       "    }\n",
       "</style>\n",
       "<table border=\"1\" class=\"dataframe\">\n",
       "  <thead>\n",
       "    <tr style=\"text-align: right;\">\n",
       "      <th></th>\n",
       "      <th>label</th>\n",
       "      <th>pixel0</th>\n",
       "      <th>pixel1</th>\n",
       "      <th>pixel2</th>\n",
       "      <th>pixel3</th>\n",
       "      <th>pixel4</th>\n",
       "      <th>pixel5</th>\n",
       "      <th>pixel6</th>\n",
       "      <th>pixel7</th>\n",
       "      <th>pixel8</th>\n",
       "      <th>...</th>\n",
       "      <th>pixel774</th>\n",
       "      <th>pixel775</th>\n",
       "      <th>pixel776</th>\n",
       "      <th>pixel777</th>\n",
       "      <th>pixel778</th>\n",
       "      <th>pixel779</th>\n",
       "      <th>pixel780</th>\n",
       "      <th>pixel781</th>\n",
       "      <th>pixel782</th>\n",
       "      <th>pixel783</th>\n",
       "    </tr>\n",
       "  </thead>\n",
       "  <tbody>\n",
       "    <tr>\n",
       "      <th>0</th>\n",
       "      <td>1</td>\n",
       "      <td>0</td>\n",
       "      <td>0</td>\n",
       "      <td>0</td>\n",
       "      <td>0</td>\n",
       "      <td>0</td>\n",
       "      <td>0</td>\n",
       "      <td>0</td>\n",
       "      <td>0</td>\n",
       "      <td>0</td>\n",
       "      <td>...</td>\n",
       "      <td>0</td>\n",
       "      <td>0</td>\n",
       "      <td>0</td>\n",
       "      <td>0</td>\n",
       "      <td>0</td>\n",
       "      <td>0</td>\n",
       "      <td>0</td>\n",
       "      <td>0</td>\n",
       "      <td>0</td>\n",
       "      <td>0</td>\n",
       "    </tr>\n",
       "    <tr>\n",
       "      <th>1</th>\n",
       "      <td>0</td>\n",
       "      <td>0</td>\n",
       "      <td>0</td>\n",
       "      <td>0</td>\n",
       "      <td>0</td>\n",
       "      <td>0</td>\n",
       "      <td>0</td>\n",
       "      <td>0</td>\n",
       "      <td>0</td>\n",
       "      <td>0</td>\n",
       "      <td>...</td>\n",
       "      <td>0</td>\n",
       "      <td>0</td>\n",
       "      <td>0</td>\n",
       "      <td>0</td>\n",
       "      <td>0</td>\n",
       "      <td>0</td>\n",
       "      <td>0</td>\n",
       "      <td>0</td>\n",
       "      <td>0</td>\n",
       "      <td>0</td>\n",
       "    </tr>\n",
       "    <tr>\n",
       "      <th>2</th>\n",
       "      <td>1</td>\n",
       "      <td>0</td>\n",
       "      <td>0</td>\n",
       "      <td>0</td>\n",
       "      <td>0</td>\n",
       "      <td>0</td>\n",
       "      <td>0</td>\n",
       "      <td>0</td>\n",
       "      <td>0</td>\n",
       "      <td>0</td>\n",
       "      <td>...</td>\n",
       "      <td>0</td>\n",
       "      <td>0</td>\n",
       "      <td>0</td>\n",
       "      <td>0</td>\n",
       "      <td>0</td>\n",
       "      <td>0</td>\n",
       "      <td>0</td>\n",
       "      <td>0</td>\n",
       "      <td>0</td>\n",
       "      <td>0</td>\n",
       "    </tr>\n",
       "    <tr>\n",
       "      <th>3</th>\n",
       "      <td>4</td>\n",
       "      <td>0</td>\n",
       "      <td>0</td>\n",
       "      <td>0</td>\n",
       "      <td>0</td>\n",
       "      <td>0</td>\n",
       "      <td>0</td>\n",
       "      <td>0</td>\n",
       "      <td>0</td>\n",
       "      <td>0</td>\n",
       "      <td>...</td>\n",
       "      <td>0</td>\n",
       "      <td>0</td>\n",
       "      <td>0</td>\n",
       "      <td>0</td>\n",
       "      <td>0</td>\n",
       "      <td>0</td>\n",
       "      <td>0</td>\n",
       "      <td>0</td>\n",
       "      <td>0</td>\n",
       "      <td>0</td>\n",
       "    </tr>\n",
       "    <tr>\n",
       "      <th>4</th>\n",
       "      <td>0</td>\n",
       "      <td>0</td>\n",
       "      <td>0</td>\n",
       "      <td>0</td>\n",
       "      <td>0</td>\n",
       "      <td>0</td>\n",
       "      <td>0</td>\n",
       "      <td>0</td>\n",
       "      <td>0</td>\n",
       "      <td>0</td>\n",
       "      <td>...</td>\n",
       "      <td>0</td>\n",
       "      <td>0</td>\n",
       "      <td>0</td>\n",
       "      <td>0</td>\n",
       "      <td>0</td>\n",
       "      <td>0</td>\n",
       "      <td>0</td>\n",
       "      <td>0</td>\n",
       "      <td>0</td>\n",
       "      <td>0</td>\n",
       "    </tr>\n",
       "  </tbody>\n",
       "</table>\n",
       "<p>5 rows × 785 columns</p>\n",
       "</div>"
      ],
      "text/plain": [
       "   label  pixel0  pixel1  pixel2  pixel3  pixel4  pixel5  pixel6  pixel7  \\\n",
       "0      1       0       0       0       0       0       0       0       0   \n",
       "1      0       0       0       0       0       0       0       0       0   \n",
       "2      1       0       0       0       0       0       0       0       0   \n",
       "3      4       0       0       0       0       0       0       0       0   \n",
       "4      0       0       0       0       0       0       0       0       0   \n",
       "\n",
       "   pixel8  ...  pixel774  pixel775  pixel776  pixel777  pixel778  pixel779  \\\n",
       "0       0  ...         0         0         0         0         0         0   \n",
       "1       0  ...         0         0         0         0         0         0   \n",
       "2       0  ...         0         0         0         0         0         0   \n",
       "3       0  ...         0         0         0         0         0         0   \n",
       "4       0  ...         0         0         0         0         0         0   \n",
       "\n",
       "   pixel780  pixel781  pixel782  pixel783  \n",
       "0         0         0         0         0  \n",
       "1         0         0         0         0  \n",
       "2         0         0         0         0  \n",
       "3         0         0         0         0  \n",
       "4         0         0         0         0  \n",
       "\n",
       "[5 rows x 785 columns]"
      ]
     },
     "execution_count": 3,
     "metadata": {},
     "output_type": "execute_result"
    }
   ],
   "source": [
    "df.head()"
   ]
  },
  {
   "cell_type": "code",
   "execution_count": 4,
   "id": "750ac6e8",
   "metadata": {
    "execution": {
     "iopub.execute_input": "2025-04-19T16:24:12.860598Z",
     "iopub.status.busy": "2025-04-19T16:24:12.860120Z",
     "iopub.status.idle": "2025-04-19T16:24:12.866849Z",
     "shell.execute_reply": "2025-04-19T16:24:12.865677Z"
    },
    "papermill": {
     "duration": 0.015684,
     "end_time": "2025-04-19T16:24:12.868529",
     "exception": false,
     "start_time": "2025-04-19T16:24:12.852845",
     "status": "completed"
    },
    "tags": []
   },
   "outputs": [
    {
     "data": {
      "text/plain": [
       "(42000, 785)"
      ]
     },
     "execution_count": 4,
     "metadata": {},
     "output_type": "execute_result"
    }
   ],
   "source": [
    "df.shape\n",
    "# Here 784 cols are for pixels and one shows label or the image they contain"
   ]
  },
  {
   "cell_type": "code",
   "execution_count": 5,
   "id": "0d65d2e1",
   "metadata": {
    "execution": {
     "iopub.execute_input": "2025-04-19T16:24:12.883883Z",
     "iopub.status.busy": "2025-04-19T16:24:12.882524Z",
     "iopub.status.idle": "2025-04-19T16:24:12.904069Z",
     "shell.execute_reply": "2025-04-19T16:24:12.903272Z"
    },
    "papermill": {
     "duration": 0.030523,
     "end_time": "2025-04-19T16:24:12.905602",
     "exception": false,
     "start_time": "2025-04-19T16:24:12.875079",
     "status": "completed"
    },
    "tags": []
   },
   "outputs": [
    {
     "data": {
      "text/html": [
       "<div>\n",
       "<style scoped>\n",
       "    .dataframe tbody tr th:only-of-type {\n",
       "        vertical-align: middle;\n",
       "    }\n",
       "\n",
       "    .dataframe tbody tr th {\n",
       "        vertical-align: top;\n",
       "    }\n",
       "\n",
       "    .dataframe thead th {\n",
       "        text-align: right;\n",
       "    }\n",
       "</style>\n",
       "<table border=\"1\" class=\"dataframe\">\n",
       "  <thead>\n",
       "    <tr style=\"text-align: right;\">\n",
       "      <th></th>\n",
       "      <th>label</th>\n",
       "      <th>pixel0</th>\n",
       "      <th>pixel1</th>\n",
       "      <th>pixel2</th>\n",
       "      <th>pixel3</th>\n",
       "      <th>pixel4</th>\n",
       "      <th>pixel5</th>\n",
       "      <th>pixel6</th>\n",
       "      <th>pixel7</th>\n",
       "      <th>pixel8</th>\n",
       "      <th>...</th>\n",
       "      <th>pixel774</th>\n",
       "      <th>pixel775</th>\n",
       "      <th>pixel776</th>\n",
       "      <th>pixel777</th>\n",
       "      <th>pixel778</th>\n",
       "      <th>pixel779</th>\n",
       "      <th>pixel780</th>\n",
       "      <th>pixel781</th>\n",
       "      <th>pixel782</th>\n",
       "      <th>pixel783</th>\n",
       "    </tr>\n",
       "  </thead>\n",
       "  <tbody>\n",
       "    <tr>\n",
       "      <th>21127</th>\n",
       "      <td>4</td>\n",
       "      <td>0</td>\n",
       "      <td>0</td>\n",
       "      <td>0</td>\n",
       "      <td>0</td>\n",
       "      <td>0</td>\n",
       "      <td>0</td>\n",
       "      <td>0</td>\n",
       "      <td>0</td>\n",
       "      <td>0</td>\n",
       "      <td>...</td>\n",
       "      <td>0</td>\n",
       "      <td>0</td>\n",
       "      <td>0</td>\n",
       "      <td>0</td>\n",
       "      <td>0</td>\n",
       "      <td>0</td>\n",
       "      <td>0</td>\n",
       "      <td>0</td>\n",
       "      <td>0</td>\n",
       "      <td>0</td>\n",
       "    </tr>\n",
       "  </tbody>\n",
       "</table>\n",
       "<p>1 rows × 785 columns</p>\n",
       "</div>"
      ],
      "text/plain": [
       "       label  pixel0  pixel1  pixel2  pixel3  pixel4  pixel5  pixel6  pixel7  \\\n",
       "21127      4       0       0       0       0       0       0       0       0   \n",
       "\n",
       "       pixel8  ...  pixel774  pixel775  pixel776  pixel777  pixel778  \\\n",
       "21127       0  ...         0         0         0         0         0   \n",
       "\n",
       "       pixel779  pixel780  pixel781  pixel782  pixel783  \n",
       "21127         0         0         0         0         0  \n",
       "\n",
       "[1 rows x 785 columns]"
      ]
     },
     "execution_count": 5,
     "metadata": {},
     "output_type": "execute_result"
    }
   ],
   "source": [
    "df.sample()"
   ]
  },
  {
   "cell_type": "code",
   "execution_count": 6,
   "id": "64bc2c57",
   "metadata": {
    "execution": {
     "iopub.execute_input": "2025-04-19T16:24:12.921082Z",
     "iopub.status.busy": "2025-04-19T16:24:12.920771Z",
     "iopub.status.idle": "2025-04-19T16:24:12.925419Z",
     "shell.execute_reply": "2025-04-19T16:24:12.924314Z"
    },
    "papermill": {
     "duration": 0.013729,
     "end_time": "2025-04-19T16:24:12.926949",
     "exception": false,
     "start_time": "2025-04-19T16:24:12.913220",
     "status": "completed"
    },
    "tags": []
   },
   "outputs": [],
   "source": [
    "import matplotlib.pyplot as plt"
   ]
  },
  {
   "cell_type": "code",
   "execution_count": 7,
   "id": "519b2388",
   "metadata": {
    "execution": {
     "iopub.execute_input": "2025-04-19T16:24:12.941521Z",
     "iopub.status.busy": "2025-04-19T16:24:12.941190Z",
     "iopub.status.idle": "2025-04-19T16:24:13.211438Z",
     "shell.execute_reply": "2025-04-19T16:24:13.210485Z"
    },
    "papermill": {
     "duration": 0.279318,
     "end_time": "2025-04-19T16:24:13.213031",
     "exception": false,
     "start_time": "2025-04-19T16:24:12.933713",
     "status": "completed"
    },
    "tags": []
   },
   "outputs": [
    {
     "data": {
      "text/plain": [
       "<matplotlib.image.AxesImage at 0x781313cb2a10>"
      ]
     },
     "execution_count": 7,
     "metadata": {},
     "output_type": "execute_result"
    },
    {
     "data": {
      "image/png": "[encoded data removed]",
      "text/plain": [
       "<Figure size 640x480 with 1 Axes>"
      ]
     },
     "metadata": {},
     "output_type": "display_data"
    }
   ],
   "source": [
    "plt.imshow(df.iloc[15384, 1:].values.reshape(28,28))"
   ]
  },
  {
   "cell_type": "code",
   "execution_count": 8,
   "id": "0b2fd7d8",
   "metadata": {
    "execution": {
     "iopub.execute_input": "2025-04-19T16:24:13.228813Z",
     "iopub.status.busy": "2025-04-19T16:24:13.228126Z",
     "iopub.status.idle": "2025-04-19T16:24:13.463980Z",
     "shell.execute_reply": "2025-04-19T16:24:13.462919Z"
    },
    "papermill": {
     "duration": 0.245338,
     "end_time": "2025-04-19T16:24:13.465680",
     "exception": false,
     "start_time": "2025-04-19T16:24:13.220342",
     "status": "completed"
    },
    "tags": []
   },
   "outputs": [
    {
     "data": {
      "text/plain": [
       "<matplotlib.image.AxesImage at 0x781305cdf650>"
      ]
     },
     "execution_count": 8,
     "metadata": {},
     "output_type": "execute_result"
    },
    {
     "data": {
      "image/png": "[encoded data removed]",
      "text/plain": [
       "<Figure size 640x480 with 1 Axes>"
      ]
     },
     "metadata": {},
     "output_type": "display_data"
    }
   ],
   "source": [
    "plt.imshow(df.iloc[6788, 1:].values.reshape(28,28))"
   ]
  },
  {
   "cell_type": "code",
   "execution_count": 9,
   "id": "ea7d87d7",
   "metadata": {
    "execution": {
     "iopub.execute_input": "2025-04-19T16:24:13.481773Z",
     "iopub.status.busy": "2025-04-19T16:24:13.481420Z",
     "iopub.status.idle": "2025-04-19T16:24:13.487026Z",
     "shell.execute_reply": "2025-04-19T16:24:13.486245Z"
    },
    "papermill": {
     "duration": 0.01532,
     "end_time": "2025-04-19T16:24:13.488389",
     "exception": false,
     "start_time": "2025-04-19T16:24:13.473069",
     "status": "completed"
    },
    "tags": []
   },
   "outputs": [],
   "source": [
    "# Separate dependent and ind cols\n",
    "X=df.iloc[:, 1:]\n",
    "y=df['label']"
   ]
  },
  {
   "cell_type": "code",
   "execution_count": 10,
   "id": "39d53ed1",
   "metadata": {
    "execution": {
     "iopub.execute_input": "2025-04-19T16:24:13.503916Z",
     "iopub.status.busy": "2025-04-19T16:24:13.503621Z",
     "iopub.status.idle": "2025-04-19T16:24:15.101027Z",
     "shell.execute_reply": "2025-04-19T16:24:15.100226Z"
    },
    "papermill": {
     "duration": 1.607057,
     "end_time": "2025-04-19T16:24:15.102605",
     "exception": false,
     "start_time": "2025-04-19T16:24:13.495548",
     "status": "completed"
    },
    "tags": []
   },
   "outputs": [],
   "source": [
    "# Train test split\n",
    "from sklearn.model_selection import train_test_split"
   ]
  },
  {
   "cell_type": "code",
   "execution_count": 11,
   "id": "17b343f8",
   "metadata": {
    "execution": {
     "iopub.execute_input": "2025-04-19T16:24:15.118121Z",
     "iopub.status.busy": "2025-04-19T16:24:15.117621Z",
     "iopub.status.idle": "2025-04-19T16:24:15.381487Z",
     "shell.execute_reply": "2025-04-19T16:24:15.380497Z"
    },
    "papermill": {
     "duration": 0.273433,
     "end_time": "2025-04-19T16:24:15.383123",
     "exception": false,
     "start_time": "2025-04-19T16:24:15.109690",
     "status": "completed"
    },
    "tags": []
   },
   "outputs": [],
   "source": [
    "X_train, X_test, y_train, y_test=train_test_split(X, y, random_state=42, test_size=0.2)"
   ]
  },
  {
   "cell_type": "code",
   "execution_count": 12,
   "id": "4cd07189",
   "metadata": {
    "execution": {
     "iopub.execute_input": "2025-04-19T16:24:15.399759Z",
     "iopub.status.busy": "2025-04-19T16:24:15.399414Z",
     "iopub.status.idle": "2025-04-19T16:24:15.405282Z",
     "shell.execute_reply": "2025-04-19T16:24:15.404366Z"
    },
    "papermill": {
     "duration": 0.016373,
     "end_time": "2025-04-19T16:24:15.406801",
     "exception": false,
     "start_time": "2025-04-19T16:24:15.390428",
     "status": "completed"
    },
    "tags": []
   },
   "outputs": [
    {
     "data": {
      "text/plain": [
       "(33600, 784)"
      ]
     },
     "execution_count": 12,
     "metadata": {},
     "output_type": "execute_result"
    }
   ],
   "source": [
    "X_train.shape"
   ]
  },
  {
   "cell_type": "code",
   "execution_count": 13,
   "id": "c778b401",
   "metadata": {
    "execution": {
     "iopub.execute_input": "2025-04-19T16:24:15.423379Z",
     "iopub.status.busy": "2025-04-19T16:24:15.423030Z",
     "iopub.status.idle": "2025-04-19T16:24:15.668374Z",
     "shell.execute_reply": "2025-04-19T16:24:15.667255Z"
    },
    "papermill": {
     "duration": 0.255581,
     "end_time": "2025-04-19T16:24:15.670042",
     "exception": false,
     "start_time": "2025-04-19T16:24:15.414461",
     "status": "completed"
    },
    "tags": []
   },
   "outputs": [],
   "source": [
    "from sklearn.neighbors import KNeighborsClassifier"
   ]
  },
  {
   "cell_type": "code",
   "execution_count": 14,
   "id": "eed5bed0",
   "metadata": {
    "execution": {
     "iopub.execute_input": "2025-04-19T16:24:15.686103Z",
     "iopub.status.busy": "2025-04-19T16:24:15.685778Z",
     "iopub.status.idle": "2025-04-19T16:24:15.689948Z",
     "shell.execute_reply": "2025-04-19T16:24:15.689219Z"
    },
    "papermill": {
     "duration": 0.013992,
     "end_time": "2025-04-19T16:24:15.691257",
     "exception": false,
     "start_time": "2025-04-19T16:24:15.677265",
     "status": "completed"
    },
    "tags": []
   },
   "outputs": [],
   "source": [
    "knn=KNeighborsClassifier()"
   ]
  },
  {
   "cell_type": "code",
   "execution_count": 15,
   "id": "66322070",
   "metadata": {
    "execution": {
     "iopub.execute_input": "2025-04-19T16:24:15.707102Z",
     "iopub.status.busy": "2025-04-19T16:24:15.706827Z",
     "iopub.status.idle": "2025-04-19T16:24:15.859725Z",
     "shell.execute_reply": "2025-04-19T16:24:15.858621Z"
    },
    "papermill": {
     "duration": 0.162894,
     "end_time": "2025-04-19T16:24:15.861276",
     "exception": false,
     "start_time": "2025-04-19T16:24:15.698382",
     "status": "completed"
    },
    "tags": []
   },
   "outputs": [
    {
     "data": {
      "text/html": [
       "<style>#sk-container-id-1 {color: black;background-color: white;}#sk-container-id-1 pre{padding: 0;}#sk-container-id-1 div.sk-toggleable {background-color: white;}#sk-container-id-1 label.sk-toggleable__label {cursor: pointer;display: block;width: 100%;margin-bottom: 0;padding: 0.3em;box-sizing: border-box;text-align: center;}#sk-container-id-1 label.sk-toggleable__label-arrow:before {content: \"▸\";float: left;margin-right: 0.25em;color: #696969;}#sk-container-id-1 label.sk-toggleable__label-arrow:hover:before {color: black;}#sk-container-id-1 div.sk-estimator:hover label.sk-toggleable__label-arrow:before {color: black;}#sk-container-id-1 div.sk-toggleable__content {max-height: 0;max-width: 0;overflow: hidden;text-align: left;background-color: #f0f8ff;}#sk-container-id-1 div.sk-toggleable__content pre {margin: 0.2em;color: black;border-radius: 0.25em;background-color: #f0f8ff;}#sk-container-id-1 input.sk-toggleable__control:checked~div.sk-toggleable__content {max-height: 200px;max-width: 100%;overflow: auto;}#sk-container-id-1 input.sk-toggleable__control:checked~label.sk-toggleable__label-arrow:before {content: \"▾\";}#sk-container-id-1 div.sk-estimator input.sk-toggleable__control:checked~label.sk-toggleable__label {background-color: #d4ebff;}#sk-container-id-1 div.sk-label input.sk-toggleable__control:checked~label.sk-toggleable__label {background-color: #d4ebff;}#sk-container-id-1 input.sk-hidden--visually {border: 0;clip: rect(1px 1px 1px 1px);clip: rect(1px, 1px, 1px, 1px);height: 1px;margin: -1px;overflow: hidden;padding: 0;position: absolute;width: 1px;}#sk-container-id-1 div.sk-estimator {font-family: monospace;background-color: #f0f8ff;border: 1px dotted black;border-radius: 0.25em;box-sizing: border-box;margin-bottom: 0.5em;}#sk-container-id-1 div.sk-estimator:hover {background-color: #d4ebff;}#sk-container-id-1 div.sk-parallel-item::after {content: \"\";width: 100%;border-bottom: 1px solid gray;flex-grow: 1;}#sk-container-id-1 div.sk-label:hover label.sk-toggleable__label {background-color: #d4ebff;}#sk-container-id-1 div.sk-serial::before {content: \"\";position: absolute;border-left: 1px solid gray;box-sizing: border-box;top: 0;bottom: 0;left: 50%;z-index: 0;}#sk-container-id-1 div.sk-serial {display: flex;flex-direction: column;align-items: center;background-color: white;padding-right: 0.2em;padding-left: 0.2em;position: relative;}#sk-container-id-1 div.sk-item {position: relative;z-index: 1;}#sk-container-id-1 div.sk-parallel {display: flex;align-items: stretch;justify-content: center;background-color: white;position: relative;}#sk-container-id-1 div.sk-item::before, #sk-container-id-1 div.sk-parallel-item::before {content: \"\";position: absolute;border-left: 1px solid gray;box-sizing: border-box;top: 0;bottom: 0;left: 50%;z-index: -1;}#sk-container-id-1 div.sk-parallel-item {display: flex;flex-direction: column;z-index: 1;position: relative;background-color: white;}#sk-container-id-1 div.sk-parallel-item:first-child::after {align-self: flex-end;width: 50%;}#sk-container-id-1 div.sk-parallel-item:last-child::after {align-self: flex-start;width: 50%;}#sk-container-id-1 div.sk-parallel-item:only-child::after {width: 0;}#sk-container-id-1 div.sk-dashed-wrapped {border: 1px dashed gray;margin: 0 0.4em 0.5em 0.4em;box-sizing: border-box;padding-bottom: 0.4em;background-color: white;}#sk-container-id-1 div.sk-label label {font-family: monospace;font-weight: bold;display: inline-block;line-height: 1.2em;}#sk-container-id-1 div.sk-label-container {text-align: center;}#sk-container-id-1 div.sk-container {/* jupyter's `normalize.less` sets `[hidden] { display: none; }` but bootstrap.min.css set `[hidden] { display: none !important; }` so we also need the `!important` here to be able to override the default hidden behavior on the sphinx rendered scikit-learn.org. See: https://github.com/scikit-learn/scikit-learn/issues/21755 */display: inline-block !important;position: relative;}#sk-container-id-1 div.sk-text-repr-fallback {display: none;}</style><div id=\"sk-container-id-1\" class=\"sk-top-container\"><div class=\"sk-text-repr-fallback\"><pre>KNeighborsClassifier()</pre><b>In a Jupyter environment, please rerun this cell to show the HTML representation or trust the notebook. <br />On GitHub, the HTML representation is unable to render, please try loading this page with nbviewer.org.</b></div><div class=\"sk-container\" hidden><div class=\"sk-item\"><div class=\"sk-estimator sk-toggleable\"><input class=\"sk-toggleable__control sk-hidden--visually\" id=\"sk-estimator-id-1\" type=\"checkbox\" checked><label for=\"sk-estimator-id-1\" class=\"sk-toggleable__label sk-toggleable__label-arrow\">KNeighborsClassifier</label><div class=\"sk-toggleable__content\"><pre>KNeighborsClassifier()</pre></div></div></div></div></div>"
      ],
      "text/plain": [
       "KNeighborsClassifier()"
      ]
     },
     "execution_count": 15,
     "metadata": {},
     "output_type": "execute_result"
    }
   ],
   "source": [
    "knn.fit(X_train, y_train)"
   ]
  },
  {
   "cell_type": "code",
   "execution_count": 16,
   "id": "d42a84a2",
   "metadata": {
    "execution": {
     "iopub.execute_input": "2025-04-19T16:24:15.877957Z",
     "iopub.status.busy": "2025-04-19T16:24:15.877660Z",
     "iopub.status.idle": "2025-04-19T16:24:28.390310Z",
     "shell.execute_reply": "2025-04-19T16:24:28.389393Z"
    },
    "papermill": {
     "duration": 12.522528,
     "end_time": "2025-04-19T16:24:28.391860",
     "exception": false,
     "start_time": "2025-04-19T16:24:15.869332",
     "status": "completed"
    },
    "tags": []
   },
   "outputs": [
    {
     "name": "stdout",
     "output_type": "stream",
     "text": [
      "12.508152961730957\n"
     ]
    }
   ],
   "source": [
    "import time\n",
    "start= time.time()\n",
    "y_pred=knn.predict(X_test) # I just tried to find out the time take to predict the \n",
    "print(time.time()-start)"
   ]
  },
  {
   "cell_type": "code",
   "execution_count": 17,
   "id": "75d96fcc",
   "metadata": {
    "execution": {
     "iopub.execute_input": "2025-04-19T16:24:28.407971Z",
     "iopub.status.busy": "2025-04-19T16:24:28.407597Z",
     "iopub.status.idle": "2025-04-19T16:24:28.411884Z",
     "shell.execute_reply": "2025-04-19T16:24:28.410958Z"
    },
    "papermill": {
     "duration": 0.014142,
     "end_time": "2025-04-19T16:24:28.413508",
     "exception": false,
     "start_time": "2025-04-19T16:24:28.399366",
     "status": "completed"
    },
    "tags": []
   },
   "outputs": [],
   "source": [
    "# In the abobe code we found y_pred and we used KNN classifier, here each row is compare with all 33000 rows and chose the nearest."
   ]
  },
  {
   "cell_type": "code",
   "execution_count": 18,
   "id": "66176bf4",
   "metadata": {
    "execution": {
     "iopub.execute_input": "2025-04-19T16:24:28.430391Z",
     "iopub.status.busy": "2025-04-19T16:24:28.429966Z",
     "iopub.status.idle": "2025-04-19T16:24:28.438282Z",
     "shell.execute_reply": "2025-04-19T16:24:28.437420Z"
    },
    "papermill": {
     "duration": 0.018452,
     "end_time": "2025-04-19T16:24:28.439883",
     "exception": false,
     "start_time": "2025-04-19T16:24:28.421431",
     "status": "completed"
    },
    "tags": []
   },
   "outputs": [
    {
     "data": {
      "text/plain": [
       "0.9648809523809524"
      ]
     },
     "execution_count": 18,
     "metadata": {},
     "output_type": "execute_result"
    }
   ],
   "source": [
    "from sklearn.metrics import accuracy_score\n",
    "accuracy_score(y_test, y_pred)"
   ]
  },
  {
   "cell_type": "code",
   "execution_count": 19,
   "id": "f0b72036",
   "metadata": {
    "execution": {
     "iopub.execute_input": "2025-04-19T16:24:28.456458Z",
     "iopub.status.busy": "2025-04-19T16:24:28.456115Z",
     "iopub.status.idle": "2025-04-19T16:24:28.460015Z",
     "shell.execute_reply": "2025-04-19T16:24:28.459195Z"
    },
    "papermill": {
     "duration": 0.013771,
     "end_time": "2025-04-19T16:24:28.461606",
     "exception": false,
     "start_time": "2025-04-19T16:24:28.447835",
     "status": "completed"
    },
    "tags": []
   },
   "outputs": [],
   "source": [
    "# We get an accuracy of 96.4% using this method"
   ]
  },
  {
   "cell_type": "markdown",
   "id": "a20afa64",
   "metadata": {
    "papermill": {
     "duration": 0.00707,
     "end_time": "2025-04-19T16:24:28.476702",
     "exception": false,
     "start_time": "2025-04-19T16:24:28.469632",
     "status": "completed"
    },
    "tags": []
   },
   "source": [
    "### PCA"
   ]
  },
  {
   "cell_type": "code",
   "execution_count": 20,
   "id": "b5491282",
   "metadata": {
    "execution": {
     "iopub.execute_input": "2025-04-19T16:24:28.493505Z",
     "iopub.status.busy": "2025-04-19T16:24:28.493178Z",
     "iopub.status.idle": "2025-04-19T16:24:28.497125Z",
     "shell.execute_reply": "2025-04-19T16:24:28.496233Z"
    },
    "papermill": {
     "duration": 0.014021,
     "end_time": "2025-04-19T16:24:28.498779",
     "exception": false,
     "start_time": "2025-04-19T16:24:28.484758",
     "status": "completed"
    },
    "tags": []
   },
   "outputs": [],
   "source": [
    "# Now we'll try to achieve same or more accuracy using far less no. of columns through PCA"
   ]
  },
  {
   "cell_type": "code",
   "execution_count": 21,
   "id": "d8c24fac",
   "metadata": {
    "execution": {
     "iopub.execute_input": "2025-04-19T16:24:28.515420Z",
     "iopub.status.busy": "2025-04-19T16:24:28.514487Z",
     "iopub.status.idle": "2025-04-19T16:24:28.519243Z",
     "shell.execute_reply": "2025-04-19T16:24:28.518443Z"
    },
    "papermill": {
     "duration": 0.014358,
     "end_time": "2025-04-19T16:24:28.520686",
     "exception": false,
     "start_time": "2025-04-19T16:24:28.506328",
     "status": "completed"
    },
    "tags": []
   },
   "outputs": [],
   "source": [
    "# First step is standardization\n",
    "from sklearn.preprocessing import StandardScaler\n",
    "scaler=StandardScaler()"
   ]
  },
  {
   "cell_type": "code",
   "execution_count": 22,
   "id": "3b007b4b",
   "metadata": {
    "execution": {
     "iopub.execute_input": "2025-04-19T16:24:28.536791Z",
     "iopub.status.busy": "2025-04-19T16:24:28.536514Z",
     "iopub.status.idle": "2025-04-19T16:24:29.105650Z",
     "shell.execute_reply": "2025-04-19T16:24:29.104651Z"
    },
    "papermill": {
     "duration": 0.579166,
     "end_time": "2025-04-19T16:24:29.107451",
     "exception": false,
     "start_time": "2025-04-19T16:24:28.528285",
     "status": "completed"
    },
    "tags": []
   },
   "outputs": [],
   "source": [
    "X_train_sc=scaler.fit_transform(X_train)\n",
    "X_test_sc = scaler.transform(X_test)"
   ]
  },
  {
   "cell_type": "code",
   "execution_count": 23,
   "id": "8e8ba27a",
   "metadata": {
    "execution": {
     "iopub.execute_input": "2025-04-19T16:24:29.123984Z",
     "iopub.status.busy": "2025-04-19T16:24:29.123646Z",
     "iopub.status.idle": "2025-04-19T16:24:29.127930Z",
     "shell.execute_reply": "2025-04-19T16:24:29.127189Z"
    },
    "papermill": {
     "duration": 0.014139,
     "end_time": "2025-04-19T16:24:29.129390",
     "exception": false,
     "start_time": "2025-04-19T16:24:29.115251",
     "status": "completed"
    },
    "tags": []
   },
   "outputs": [],
   "source": [
    "from sklearn.decomposition import PCA\n",
    "\n",
    "pca=PCA(n_components=None)  # Default value is none which means there will be same no. of PC as initials rows"
   ]
  },
  {
   "cell_type": "code",
   "execution_count": 24,
   "id": "370649bd",
   "metadata": {
    "execution": {
     "iopub.execute_input": "2025-04-19T16:24:29.210447Z",
     "iopub.status.busy": "2025-04-19T16:24:29.210093Z",
     "iopub.status.idle": "2025-04-19T16:24:33.379517Z",
     "shell.execute_reply": "2025-04-19T16:24:33.378734Z"
    },
    "papermill": {
     "duration": 4.179567,
     "end_time": "2025-04-19T16:24:33.381254",
     "exception": false,
     "start_time": "2025-04-19T16:24:29.201687",
     "status": "completed"
    },
    "tags": []
   },
   "outputs": [],
   "source": [
    "X_train_trf1 = pca.fit_transform(X_train_sc)\n",
    "X_test_trf1 = pca.transform(X_test_sc)"
   ]
  },
  {
   "cell_type": "code",
   "execution_count": 25,
   "id": "90149033",
   "metadata": {
    "execution": {
     "iopub.execute_input": "2025-04-19T16:24:33.398046Z",
     "iopub.status.busy": "2025-04-19T16:24:33.397748Z",
     "iopub.status.idle": "2025-04-19T16:24:33.403448Z",
     "shell.execute_reply": "2025-04-19T16:24:33.402526Z"
    },
    "papermill": {
     "duration": 0.015481,
     "end_time": "2025-04-19T16:24:33.404891",
     "exception": false,
     "start_time": "2025-04-19T16:24:33.389410",
     "status": "completed"
    },
    "tags": []
   },
   "outputs": [
    {
     "data": {
      "text/plain": [
       "(33600, 784)"
      ]
     },
     "execution_count": 25,
     "metadata": {},
     "output_type": "execute_result"
    }
   ],
   "source": [
    "X_train_trf1.shape"
   ]
  },
  {
   "cell_type": "code",
   "execution_count": 26,
   "id": "61a96cfe",
   "metadata": {
    "execution": {
     "iopub.execute_input": "2025-04-19T16:24:33.422104Z",
     "iopub.status.busy": "2025-04-19T16:24:33.421772Z",
     "iopub.status.idle": "2025-04-19T16:24:33.425827Z",
     "shell.execute_reply": "2025-04-19T16:24:33.424834Z"
    },
    "papermill": {
     "duration": 0.014341,
     "end_time": "2025-04-19T16:24:33.427312",
     "exception": false,
     "start_time": "2025-04-19T16:24:33.412971",
     "status": "completed"
    },
    "tags": []
   },
   "outputs": [],
   "source": [
    "# We still have 784 cols"
   ]
  },
  {
   "cell_type": "code",
   "execution_count": 27,
   "id": "7c3cb514",
   "metadata": {
    "execution": {
     "iopub.execute_input": "2025-04-19T16:24:33.445034Z",
     "iopub.status.busy": "2025-04-19T16:24:33.444745Z",
     "iopub.status.idle": "2025-04-19T16:24:33.448892Z",
     "shell.execute_reply": "2025-04-19T16:24:33.448100Z"
    },
    "papermill": {
     "duration": 0.014584,
     "end_time": "2025-04-19T16:24:33.450492",
     "exception": false,
     "start_time": "2025-04-19T16:24:33.435908",
     "status": "completed"
    },
    "tags": []
   },
   "outputs": [],
   "source": [
    "knn=KNeighborsClassifier()"
   ]
  },
  {
   "cell_type": "code",
   "execution_count": 28,
   "id": "f9054e93",
   "metadata": {
    "execution": {
     "iopub.execute_input": "2025-04-19T16:24:33.467302Z",
     "iopub.status.busy": "2025-04-19T16:24:33.466958Z",
     "iopub.status.idle": "2025-04-19T16:24:41.728853Z",
     "shell.execute_reply": "2025-04-19T16:24:41.727906Z"
    },
    "papermill": {
     "duration": 8.272412,
     "end_time": "2025-04-19T16:24:41.730718",
     "exception": false,
     "start_time": "2025-04-19T16:24:33.458306",
     "status": "completed"
    },
    "tags": []
   },
   "outputs": [],
   "source": [
    "knn.fit(X_train_trf1, y_train)\n",
    "\n",
    "y_pred2=knn.predict(X_test_trf1)"
   ]
  },
  {
   "cell_type": "code",
   "execution_count": 29,
   "id": "28b27b60",
   "metadata": {
    "execution": {
     "iopub.execute_input": "2025-04-19T16:24:41.748326Z",
     "iopub.status.busy": "2025-04-19T16:24:41.747991Z",
     "iopub.status.idle": "2025-04-19T16:24:41.754781Z",
     "shell.execute_reply": "2025-04-19T16:24:41.753949Z"
    },
    "papermill": {
     "duration": 0.017106,
     "end_time": "2025-04-19T16:24:41.756488",
     "exception": false,
     "start_time": "2025-04-19T16:24:41.739382",
     "status": "completed"
    },
    "tags": []
   },
   "outputs": [
    {
     "data": {
      "text/plain": [
       "0.9391666666666667"
      ]
     },
     "execution_count": 29,
     "metadata": {},
     "output_type": "execute_result"
    }
   ],
   "source": [
    "accuracy_score(y_test, y_pred2)"
   ]
  },
  {
   "cell_type": "code",
   "execution_count": 30,
   "id": "c3a53fd5",
   "metadata": {
    "execution": {
     "iopub.execute_input": "2025-04-19T16:24:41.775802Z",
     "iopub.status.busy": "2025-04-19T16:24:41.775481Z",
     "iopub.status.idle": "2025-04-19T16:24:41.779337Z",
     "shell.execute_reply": "2025-04-19T16:24:41.778508Z"
    },
    "papermill": {
     "duration": 0.014659,
     "end_time": "2025-04-19T16:24:41.780672",
     "exception": false,
     "start_time": "2025-04-19T16:24:41.766013",
     "status": "completed"
    },
    "tags": []
   },
   "outputs": [],
   "source": [
    "# Since we did not reduce dim our accuracy reduced\n",
    "# Lets reduce the Dimension to 100"
   ]
  },
  {
   "cell_type": "code",
   "execution_count": 31,
   "id": "0b0b93cc",
   "metadata": {
    "execution": {
     "iopub.execute_input": "2025-04-19T16:24:41.797670Z",
     "iopub.status.busy": "2025-04-19T16:24:41.796952Z",
     "iopub.status.idle": "2025-04-19T16:24:41.801462Z",
     "shell.execute_reply": "2025-04-19T16:24:41.800461Z"
    },
    "papermill": {
     "duration": 0.014305,
     "end_time": "2025-04-19T16:24:41.802800",
     "exception": false,
     "start_time": "2025-04-19T16:24:41.788495",
     "status": "completed"
    },
    "tags": []
   },
   "outputs": [],
   "source": [
    "from sklearn.decomposition import PCA\n",
    "\n",
    "pca2=PCA(n_components=100)"
   ]
  },
  {
   "cell_type": "code",
   "execution_count": 32,
   "id": "41a0bac2",
   "metadata": {
    "execution": {
     "iopub.execute_input": "2025-04-19T16:24:41.819347Z",
     "iopub.status.busy": "2025-04-19T16:24:41.819020Z",
     "iopub.status.idle": "2025-04-19T16:24:44.621813Z",
     "shell.execute_reply": "2025-04-19T16:24:44.621047Z"
    },
    "papermill": {
     "duration": 2.812963,
     "end_time": "2025-04-19T16:24:44.623535",
     "exception": false,
     "start_time": "2025-04-19T16:24:41.810572",
     "status": "completed"
    },
    "tags": []
   },
   "outputs": [],
   "source": [
    "X_train_trf2 = pca2.fit_transform(X_train_sc)\n",
    "X_test_trf2 = pca2.transform(X_test_sc)"
   ]
  },
  {
   "cell_type": "code",
   "execution_count": 33,
   "id": "d0024286",
   "metadata": {
    "execution": {
     "iopub.execute_input": "2025-04-19T16:24:44.641027Z",
     "iopub.status.busy": "2025-04-19T16:24:44.640432Z",
     "iopub.status.idle": "2025-04-19T16:24:44.645951Z",
     "shell.execute_reply": "2025-04-19T16:24:44.645091Z"
    },
    "papermill": {
     "duration": 0.016178,
     "end_time": "2025-04-19T16:24:44.647575",
     "exception": false,
     "start_time": "2025-04-19T16:24:44.631397",
     "status": "completed"
    },
    "tags": []
   },
   "outputs": [
    {
     "data": {
      "text/plain": [
       "(33600, 100)"
      ]
     },
     "execution_count": 33,
     "metadata": {},
     "output_type": "execute_result"
    }
   ],
   "source": [
    "X_train_trf2.shape"
   ]
  },
  {
   "cell_type": "code",
   "execution_count": 34,
   "id": "c048483d",
   "metadata": {
    "execution": {
     "iopub.execute_input": "2025-04-19T16:24:44.664655Z",
     "iopub.status.busy": "2025-04-19T16:24:44.664328Z",
     "iopub.status.idle": "2025-04-19T16:24:46.234677Z",
     "shell.execute_reply": "2025-04-19T16:24:46.233673Z"
    },
    "papermill": {
     "duration": 1.580786,
     "end_time": "2025-04-19T16:24:46.236451",
     "exception": false,
     "start_time": "2025-04-19T16:24:44.655665",
     "status": "completed"
    },
    "tags": []
   },
   "outputs": [
    {
     "data": {
      "text/plain": [
       "0.9552380952380952"
      ]
     },
     "execution_count": 34,
     "metadata": {},
     "output_type": "execute_result"
    }
   ],
   "source": [
    "knn.fit(X_train_trf2, y_train)\n",
    "\n",
    "y_pred3 = knn.predict(X_test_trf2)\n",
    "\n",
    "accuracy_score(y_test, y_pred3)"
   ]
  },
  {
   "cell_type": "code",
   "execution_count": 35,
   "id": "9b03d06b",
   "metadata": {
    "execution": {
     "iopub.execute_input": "2025-04-19T16:24:46.253609Z",
     "iopub.status.busy": "2025-04-19T16:24:46.253269Z",
     "iopub.status.idle": "2025-04-19T16:24:46.257748Z",
     "shell.execute_reply": "2025-04-19T16:24:46.256741Z"
    },
    "papermill": {
     "duration": 0.01474,
     "end_time": "2025-04-19T16:24:46.259366",
     "exception": false,
     "start_time": "2025-04-19T16:24:46.244626",
     "status": "completed"
    },
    "tags": []
   },
   "outputs": [],
   "source": [
    "# We used the same KNN Classiefier after appling PCA and got 95.33% accuracy with only 100 col"
   ]
  },
  {
   "cell_type": "code",
   "execution_count": 36,
   "id": "d49e2176",
   "metadata": {
    "execution": {
     "iopub.execute_input": "2025-04-19T16:24:46.276631Z",
     "iopub.status.busy": "2025-04-19T16:24:46.276292Z",
     "iopub.status.idle": "2025-04-19T18:41:21.484939Z",
     "shell.execute_reply": "2025-04-19T18:41:21.483931Z"
    },
    "papermill": {
     "duration": 8195.219194,
     "end_time": "2025-04-19T18:41:21.486639",
     "exception": false,
     "start_time": "2025-04-19T16:24:46.267445",
     "status": "completed"
    },
    "tags": []
   },
   "outputs": [
    {
     "name": "stdout",
     "output_type": "stream",
     "text": [
      "0.25833333333333336\n",
      "0.32404761904761903\n",
      "0.5104761904761905\n",
      "0.6666666666666666\n",
      "0.7375\n",
      "0.8225\n",
      "0.8432142857142857\n",
      "0.8717857142857143\n",
      "0.8866666666666667\n",
      "0.9053571428571429\n",
      "0.9117857142857143\n",
      "0.9177380952380952\n",
      "0.9277380952380953\n",
      "0.9348809523809524\n",
      "0.9384523809523809\n",
      "0.9375\n",
      "0.9415476190476191\n",
      "0.940952380952381\n",
      "0.9417857142857143\n",
      "0.9444047619047619\n",
      "0.9428571428571428\n",
      "0.9448809523809524\n",
      "0.9439285714285715\n",
      "0.945595238095238\n",
      "0.9473809523809524\n",
      "0.9479761904761905\n",
      "0.9483333333333334\n",
      "0.9473809523809524\n",
      "0.9511904761904761\n",
      "0.9504761904761905\n",
      "0.9508333333333333\n",
      "0.9508333333333333\n",
      "0.9495238095238095\n",
      "0.9501190476190476\n",
      "0.9515476190476191\n",
      "0.9520238095238095\n",
      "0.9521428571428572\n",
      "0.9536904761904762\n",
      "0.9536904761904762\n",
      "0.9528571428571428\n",
      "0.9528571428571428\n",
      "0.9520238095238095\n",
      "0.9528571428571428\n",
      "0.9530952380952381\n",
      "0.9539285714285715\n",
      "0.9534523809523809\n",
      "0.9534523809523809\n",
      "0.9536904761904762\n",
      "0.9530952380952381\n",
      "0.9538095238095238\n",
      "0.9536904761904762\n",
      "0.9544047619047619\n",
      "0.9541666666666667\n",
      "0.9547619047619048\n",
      "0.9541666666666667\n",
      "0.9530952380952381\n",
      "0.9545238095238096\n",
      "0.9545238095238096\n",
      "0.9523809523809523\n",
      "0.9533333333333334\n",
      "0.9541666666666667\n",
      "0.9536904761904762\n",
      "0.9554761904761905\n",
      "0.9557142857142857\n",
      "0.9547619047619048\n",
      "0.9535714285714286\n",
      "0.9545238095238096\n",
      "0.9544047619047619\n",
      "0.9553571428571429\n",
      "0.9546428571428571\n",
      "0.9553571428571429\n",
      "0.9545238095238096\n",
      "0.9553571428571429\n",
      "0.9546428571428571\n",
      "0.9548809523809524\n",
      "0.9542857142857143\n",
      "0.9553571428571429\n",
      "0.9547619047619048\n",
      "0.9552380952380952\n",
      "0.9548809523809524\n",
      "0.9545238095238096\n",
      "0.955\n",
      "0.954047619047619\n",
      "0.9546428571428571\n",
      "0.9558333333333333\n",
      "0.9548809523809524\n",
      "0.9545238095238096\n",
      "0.9539285714285715\n",
      "0.9551190476190476\n",
      "0.955\n",
      "0.9548809523809524\n",
      "0.9551190476190476\n",
      "0.9535714285714286\n",
      "0.9541666666666667\n",
      "0.9547619047619048\n",
      "0.9552380952380952\n",
      "0.9547619047619048\n",
      "0.9535714285714286\n",
      "0.9528571428571428\n",
      "0.9538095238095238\n",
      "0.9541666666666667\n",
      "0.9533333333333334\n",
      "0.9535714285714286\n",
      "0.954047619047619\n",
      "0.9534523809523809\n",
      "0.9548809523809524\n",
      "0.9527380952380953\n",
      "0.9528571428571428\n",
      "0.9535714285714286\n",
      "0.9534523809523809\n",
      "0.9532142857142857\n",
      "0.9533333333333334\n",
      "0.9536904761904762\n",
      "0.9528571428571428\n",
      "0.9538095238095238\n",
      "0.9520238095238095\n",
      "0.9535714285714286\n",
      "0.9535714285714286\n",
      "0.9526190476190476\n",
      "0.9521428571428572\n",
      "0.9527380952380953\n",
      "0.9538095238095238\n",
      "0.9527380952380953\n",
      "0.9526190476190476\n",
      "0.9529761904761904\n",
      "0.9527380952380953\n",
      "0.9522619047619048\n",
      "0.9529761904761904\n",
      "0.9520238095238095\n",
      "0.9527380952380953\n",
      "0.9528571428571428\n",
      "0.9525\n",
      "0.9523809523809523\n",
      "0.9522619047619048\n",
      "0.9534523809523809\n",
      "0.9527380952380953\n",
      "0.9526190476190476\n",
      "0.9521428571428572\n",
      "0.9527380952380953\n",
      "0.9533333333333334\n",
      "0.9523809523809523\n",
      "0.9525\n",
      "0.9520238095238095\n",
      "0.9525\n",
      "0.9519047619047619\n",
      "0.9523809523809523\n",
      "0.9514285714285714\n",
      "0.9519047619047619\n",
      "0.9519047619047619\n",
      "0.9527380952380953\n",
      "0.9514285714285714\n",
      "0.9522619047619048\n",
      "0.9517857142857142\n",
      "0.9521428571428572\n",
      "0.9516666666666667\n",
      "0.9519047619047619\n",
      "0.9508333333333333\n",
      "0.9508333333333333\n",
      "0.9497619047619048\n",
      "0.9520238095238095\n",
      "0.9519047619047619\n",
      "0.9515476190476191\n",
      "0.9514285714285714\n",
      "0.9517857142857142\n",
      "0.9515476190476191\n",
      "0.9515476190476191\n",
      "0.9513095238095238\n",
      "0.950952380952381\n",
      "0.950952380952381\n",
      "0.9508333333333333\n",
      "0.9513095238095238\n",
      "0.9515476190476191\n",
      "0.9508333333333333\n",
      "0.9510714285714286\n",
      "0.9513095238095238\n",
      "0.9508333333333333\n",
      "0.9504761904761905\n",
      "0.9510714285714286\n",
      "0.950952380952381\n",
      "0.9515476190476191\n",
      "0.9514285714285714\n",
      "0.9507142857142857\n",
      "0.9501190476190476\n",
      "0.9516666666666667\n",
      "0.9519047619047619\n",
      "0.950952380952381\n",
      "0.9511904761904761\n",
      "0.9517857142857142\n",
      "0.950952380952381\n",
      "0.9517857142857142\n",
      "0.9503571428571429\n",
      "0.950952380952381\n",
      "0.9507142857142857\n",
      "0.9513095238095238\n",
      "0.9503571428571429\n",
      "0.9503571428571429\n",
      "0.9507142857142857\n",
      "0.950595238095238\n",
      "0.9508333333333333\n",
      "0.9504761904761905\n",
      "0.9507142857142857\n",
      "0.950952380952381\n",
      "0.9508333333333333\n",
      "0.9507142857142857\n",
      "0.9510714285714286\n",
      "0.9508333333333333\n",
      "0.950952380952381\n",
      "0.9513095238095238\n",
      "0.9504761904761905\n",
      "0.9497619047619048\n",
      "0.9496428571428571\n",
      "0.9496428571428571\n",
      "0.9503571428571429\n",
      "0.9497619047619048\n",
      "0.9498809523809524\n",
      "0.949047619047619\n",
      "0.9501190476190476\n",
      "0.9491666666666667\n",
      "0.9496428571428571\n",
      "0.9502380952380952\n",
      "0.9492857142857143\n",
      "0.9497619047619048\n",
      "0.9494047619047619\n",
      "0.949047619047619\n",
      "0.9492857142857143\n",
      "0.9497619047619048\n",
      "0.9492857142857143\n",
      "0.949047619047619\n",
      "0.9482142857142857\n",
      "0.9485714285714286\n",
      "0.9488095238095238\n",
      "0.9492857142857143\n",
      "0.9488095238095238\n",
      "0.9486904761904762\n",
      "0.9496428571428571\n",
      "0.9483333333333334\n",
      "0.9482142857142857\n",
      "0.9482142857142857\n",
      "0.9484523809523809\n",
      "0.9488095238095238\n",
      "0.9486904761904762\n",
      "0.9491666666666667\n",
      "0.9489285714285715\n",
      "0.9484523809523809\n",
      "0.9476190476190476\n",
      "0.9478571428571428\n",
      "0.9480952380952381\n",
      "0.9483333333333334\n",
      "0.9479761904761905\n",
      "0.9471428571428572\n",
      "0.9482142857142857\n",
      "0.9476190476190476\n",
      "0.9486904761904762\n",
      "0.9477380952380953\n",
      "0.9476190476190476\n",
      "0.9486904761904762\n",
      "0.9472619047619047\n",
      "0.9472619047619047\n",
      "0.9476190476190476\n",
      "0.9480952380952381\n",
      "0.9477380952380953\n",
      "0.9473809523809524\n",
      "0.9472619047619047\n",
      "0.9470238095238095\n",
      "0.9476190476190476\n",
      "0.9476190476190476\n",
      "0.9472619047619047\n",
      "0.9478571428571428\n",
      "0.9467857142857142\n",
      "0.9477380952380953\n",
      "0.9470238095238095\n",
      "0.9479761904761905\n",
      "0.9477380952380953\n",
      "0.9465476190476191\n",
      "0.9478571428571428\n",
      "0.9472619047619047\n",
      "0.9466666666666667\n",
      "0.9470238095238095\n",
      "0.9475\n",
      "0.9472619047619047\n",
      "0.9476190476190476\n",
      "0.9464285714285714\n",
      "0.9467857142857142\n",
      "0.9466666666666667\n",
      "0.9465476190476191\n",
      "0.9461904761904761\n",
      "0.9465476190476191\n",
      "0.9465476190476191\n",
      "0.9472619047619047\n",
      "0.9473809523809524\n",
      "0.9467857142857142\n",
      "0.9472619047619047\n",
      "0.9466666666666667\n",
      "0.9465476190476191\n",
      "0.9471428571428572\n",
      "0.9469047619047619\n",
      "0.9472619047619047\n",
      "0.9470238095238095\n",
      "0.9472619047619047\n",
      "0.9469047619047619\n",
      "0.9470238095238095\n",
      "0.9469047619047619\n",
      "0.9469047619047619\n",
      "0.9466666666666667\n",
      "0.9466666666666667\n",
      "0.9467857142857142\n",
      "0.9467857142857142\n",
      "0.9465476190476191\n",
      "0.9466666666666667\n",
      "0.9458333333333333\n",
      "0.9464285714285714\n",
      "0.9464285714285714\n",
      "0.9458333333333333\n",
      "0.9469047619047619\n",
      "0.9458333333333333\n",
      "0.9464285714285714\n",
      "0.9476190476190476\n",
      "0.9465476190476191\n",
      "0.9463095238095238\n",
      "0.945952380952381\n",
      "0.9463095238095238\n",
      "0.9457142857142857\n",
      "0.9454761904761905\n",
      "0.9464285714285714\n",
      "0.9453571428571429\n",
      "0.945952380952381\n",
      "0.9457142857142857\n",
      "0.9457142857142857\n",
      "0.9457142857142857\n",
      "0.9451190476190476\n",
      "0.9454761904761905\n",
      "0.945952380952381\n",
      "0.9452380952380952\n",
      "0.9457142857142857\n",
      "0.945595238095238\n",
      "0.9453571428571429\n",
      "0.9454761904761905\n",
      "0.9448809523809524\n",
      "0.9451190476190476\n",
      "0.945595238095238\n",
      "0.9457142857142857\n",
      "0.9454761904761905\n",
      "0.9444047619047619\n",
      "0.945\n",
      "0.9442857142857143\n",
      "0.9441666666666667\n",
      "0.9441666666666667\n",
      "0.9452380952380952\n",
      "0.9445238095238095\n",
      "0.9446428571428571\n",
      "0.9439285714285715\n",
      "0.9444047619047619\n",
      "0.9441666666666667\n",
      "0.944047619047619\n",
      "0.9442857142857143\n",
      "0.9442857142857143\n",
      "0.9446428571428571\n",
      "0.9438095238095238\n",
      "0.944047619047619\n",
      "0.9438095238095238\n",
      "0.9438095238095238\n",
      "0.9438095238095238\n",
      "0.9444047619047619\n",
      "0.9444047619047619\n",
      "0.9441666666666667\n",
      "0.9438095238095238\n",
      "0.9444047619047619\n",
      "0.9438095238095238\n",
      "0.9447619047619048\n",
      "0.944047619047619\n",
      "0.9438095238095238\n",
      "0.9442857142857143\n",
      "0.9435714285714286\n",
      "0.9441666666666667\n",
      "0.9439285714285715\n",
      "0.9436904761904762\n",
      "0.9438095238095238\n",
      "0.9436904761904762\n",
      "0.9436904761904762\n",
      "0.944047619047619\n",
      "0.9439285714285715\n",
      "0.9442857142857143\n",
      "0.9432142857142857\n",
      "0.9438095238095238\n",
      "0.9434523809523809\n",
      "0.9438095238095238\n",
      "0.9434523809523809\n",
      "0.9444047619047619\n",
      "0.9435714285714286\n",
      "0.9435714285714286\n",
      "0.9434523809523809\n",
      "0.944047619047619\n",
      "0.9441666666666667\n",
      "0.9436904761904762\n",
      "0.9439285714285715\n",
      "0.9433333333333334\n",
      "0.9435714285714286\n",
      "0.9436904761904762\n",
      "0.9432142857142857\n",
      "0.9433333333333334\n",
      "0.9439285714285715\n",
      "0.9430952380952381\n",
      "0.9430952380952381\n",
      "0.9438095238095238\n",
      "0.9434523809523809\n",
      "0.9430952380952381\n",
      "0.9432142857142857\n",
      "0.9434523809523809\n",
      "0.9429761904761905\n",
      "0.9433333333333334\n",
      "0.9434523809523809\n",
      "0.9430952380952381\n",
      "0.9429761904761905\n",
      "0.9427380952380953\n",
      "0.9429761904761905\n",
      "0.9429761904761905\n",
      "0.9427380952380953\n",
      "0.9430952380952381\n",
      "0.9430952380952381\n",
      "0.9427380952380953\n",
      "0.9427380952380953\n",
      "0.9428571428571428\n",
      "0.9428571428571428\n",
      "0.9429761904761905\n",
      "0.9429761904761905\n",
      "0.9428571428571428\n",
      "0.9429761904761905\n",
      "0.9425\n",
      "0.9429761904761905\n",
      "0.9428571428571428\n",
      "0.9426190476190476\n",
      "0.9430952380952381\n",
      "0.9429761904761905\n",
      "0.9428571428571428\n",
      "0.9425\n",
      "0.9423809523809524\n",
      "0.9428571428571428\n",
      "0.9425\n",
      "0.9427380952380953\n",
      "0.9429761904761905\n",
      "0.9430952380952381\n",
      "0.9426190476190476\n",
      "0.9425\n",
      "0.9426190476190476\n",
      "0.9420238095238095\n",
      "0.9425\n",
      "0.9423809523809524\n",
      "0.9420238095238095\n",
      "0.9428571428571428\n",
      "0.9426190476190476\n",
      "0.9422619047619047\n",
      "0.9422619047619047\n",
      "0.9421428571428572\n",
      "0.9425\n",
      "0.9419047619047619\n",
      "0.9420238095238095\n",
      "0.9425\n",
      "0.9421428571428572\n",
      "0.9417857142857143\n",
      "0.9419047619047619\n",
      "0.9425\n",
      "0.9421428571428572\n",
      "0.9421428571428572\n",
      "0.9426190476190476\n",
      "0.9422619047619047\n",
      "0.9417857142857143\n",
      "0.9421428571428572\n",
      "0.9417857142857143\n",
      "0.9425\n",
      "0.9422619047619047\n",
      "0.9417857142857143\n",
      "0.9423809523809524\n",
      "0.9415476190476191\n",
      "0.9419047619047619\n",
      "0.9416666666666667\n",
      "0.9417857142857143\n",
      "0.9425\n",
      "0.9414285714285714\n",
      "0.9419047619047619\n",
      "0.9411904761904762\n",
      "0.9415476190476191\n",
      "0.9420238095238095\n",
      "0.9414285714285714\n",
      "0.9422619047619047\n",
      "0.9419047619047619\n",
      "0.9420238095238095\n",
      "0.9422619047619047\n",
      "0.9419047619047619\n",
      "0.9408333333333333\n",
      "0.9416666666666667\n",
      "0.9414285714285714\n",
      "0.9411904761904762\n",
      "0.9419047619047619\n",
      "0.9415476190476191\n",
      "0.9414285714285714\n",
      "0.9415476190476191\n",
      "0.9414285714285714\n",
      "0.9415476190476191\n",
      "0.9411904761904762\n",
      "0.9410714285714286\n",
      "0.9410714285714286\n",
      "0.9411904761904762\n",
      "0.940952380952381\n",
      "0.9408333333333333\n",
      "0.9410714285714286\n",
      "0.9408333333333333\n",
      "0.9404761904761905\n",
      "0.9411904761904762\n",
      "0.940952380952381\n",
      "0.9407142857142857\n",
      "0.9408333333333333\n",
      "0.9411904761904762\n",
      "0.940595238095238\n",
      "0.9410714285714286\n",
      "0.9407142857142857\n",
      "0.9407142857142857\n",
      "0.9404761904761905\n",
      "0.940952380952381\n",
      "0.940595238095238\n",
      "0.940952380952381\n",
      "0.9407142857142857\n",
      "0.9404761904761905\n",
      "0.940595238095238\n",
      "0.9404761904761905\n",
      "0.9407142857142857\n",
      "0.9408333333333333\n",
      "0.940595238095238\n",
      "0.9403571428571429\n",
      "0.940595238095238\n",
      "0.9398809523809524\n",
      "0.9403571428571429\n",
      "0.9407142857142857\n",
      "0.9407142857142857\n",
      "0.940595238095238\n",
      "0.940595238095238\n",
      "0.9403571428571429\n",
      "0.940595238095238\n",
      "0.940595238095238\n",
      "0.9401190476190476\n",
      "0.9401190476190476\n",
      "0.9401190476190476\n",
      "0.9403571428571429\n",
      "0.9403571428571429\n",
      "0.9398809523809524\n",
      "0.9402380952380952\n",
      "0.9404761904761905\n",
      "0.9403571428571429\n",
      "0.9403571428571429\n",
      "0.9402380952380952\n",
      "0.9404761904761905\n",
      "0.9404761904761905\n",
      "0.9407142857142857\n",
      "0.9404761904761905\n",
      "0.9403571428571429\n",
      "0.9401190476190476\n",
      "0.9398809523809524\n",
      "0.9403571428571429\n",
      "0.9401190476190476\n",
      "0.940595238095238\n",
      "0.940595238095238\n",
      "0.9403571428571429\n",
      "0.940595238095238\n",
      "0.9403571428571429\n",
      "0.94\n",
      "0.9404761904761905\n",
      "0.9397619047619048\n",
      "0.9401190476190476\n",
      "0.9403571428571429\n",
      "0.9402380952380952\n",
      "0.9401190476190476\n",
      "0.94\n",
      "0.9397619047619048\n",
      "0.9403571428571429\n",
      "0.9398809523809524\n",
      "0.94\n",
      "0.9401190476190476\n",
      "0.9402380952380952\n",
      "0.9401190476190476\n",
      "0.94\n",
      "0.9398809523809524\n",
      "0.9401190476190476\n",
      "0.9402380952380952\n",
      "0.9402380952380952\n",
      "0.94\n",
      "0.9401190476190476\n",
      "0.94\n",
      "0.9398809523809524\n",
      "0.9402380952380952\n",
      "0.94\n",
      "0.9401190476190476\n",
      "0.9402380952380952\n",
      "0.9398809523809524\n",
      "0.94\n",
      "0.9402380952380952\n",
      "0.9403571428571429\n",
      "0.9397619047619048\n",
      "0.9397619047619048\n",
      "0.9397619047619048\n",
      "0.9402380952380952\n",
      "0.9404761904761905\n",
      "0.9402380952380952\n",
      "0.94\n",
      "0.9401190476190476\n",
      "0.94\n",
      "0.94\n",
      "0.9397619047619048\n",
      "0.9401190476190476\n",
      "0.9402380952380952\n",
      "0.9402380952380952\n",
      "0.9398809523809524\n",
      "0.9402380952380952\n",
      "0.9398809523809524\n",
      "0.9397619047619048\n",
      "0.94\n",
      "0.9402380952380952\n",
      "0.9401190476190476\n",
      "0.9401190476190476\n",
      "0.9397619047619048\n",
      "0.9398809523809524\n",
      "0.9402380952380952\n",
      "0.9398809523809524\n",
      "0.9401190476190476\n",
      "0.9403571428571429\n",
      "0.9398809523809524\n",
      "0.9401190476190476\n",
      "0.9401190476190476\n",
      "0.9401190476190476\n",
      "0.9401190476190476\n",
      "0.9401190476190476\n",
      "0.94\n",
      "0.94\n",
      "0.9401190476190476\n",
      "0.9398809523809524\n",
      "0.9398809523809524\n",
      "0.9398809523809524\n",
      "0.9398809523809524\n",
      "0.9398809523809524\n",
      "0.9398809523809524\n",
      "0.9398809523809524\n",
      "0.94\n",
      "0.9401190476190476\n",
      "0.9401190476190476\n",
      "0.9401190476190476\n",
      "0.9401190476190476\n",
      "0.94\n",
      "0.94\n",
      "0.9401190476190476\n",
      "0.9402380952380952\n",
      "0.9401190476190476\n",
      "0.9398809523809524\n",
      "0.9402380952380952\n",
      "0.9402380952380952\n",
      "0.9402380952380952\n",
      "0.9401190476190476\n",
      "0.94\n",
      "0.94\n",
      "0.9398809523809524\n",
      "0.94\n",
      "0.94\n",
      "0.94\n",
      "0.94\n",
      "0.94\n",
      "0.9401190476190476\n",
      "0.94\n",
      "0.94\n",
      "0.94\n",
      "0.9401190476190476\n",
      "0.9401190476190476\n",
      "0.9401190476190476\n",
      "0.94\n",
      "0.94\n",
      "0.9398809523809524\n",
      "0.9398809523809524\n",
      "0.9398809523809524\n",
      "0.9397619047619048\n",
      "0.9397619047619048\n",
      "0.9394047619047619\n",
      "0.9394047619047619\n",
      "0.9394047619047619\n",
      "0.9394047619047619\n",
      "0.9394047619047619\n",
      "0.9392857142857143\n",
      "0.9391666666666667\n",
      "0.939047619047619\n",
      "0.939047619047619\n",
      "0.939047619047619\n",
      "0.939047619047619\n",
      "0.9391666666666667\n",
      "0.9391666666666667\n",
      "0.9392857142857143\n",
      "0.9391666666666667\n",
      "0.9391666666666667\n",
      "0.9391666666666667\n",
      "0.9391666666666667\n",
      "0.9391666666666667\n",
      "0.9391666666666667\n",
      "0.9391666666666667\n",
      "0.9391666666666667\n",
      "0.9391666666666667\n",
      "0.9391666666666667\n",
      "0.9391666666666667\n",
      "0.9391666666666667\n",
      "0.9391666666666667\n",
      "0.9391666666666667\n",
      "0.9391666666666667\n",
      "0.9391666666666667\n",
      "0.9391666666666667\n",
      "0.9391666666666667\n",
      "0.9391666666666667\n",
      "0.9391666666666667\n",
      "0.9391666666666667\n",
      "0.9391666666666667\n",
      "0.9391666666666667\n",
      "0.9391666666666667\n",
      "0.9391666666666667\n",
      "0.9391666666666667\n",
      "0.9391666666666667\n",
      "0.9391666666666667\n",
      "0.9391666666666667\n",
      "0.9391666666666667\n",
      "0.9391666666666667\n",
      "0.9391666666666667\n",
      "0.9391666666666667\n",
      "0.9391666666666667\n",
      "0.9391666666666667\n",
      "0.9391666666666667\n",
      "0.9391666666666667\n",
      "0.9391666666666667\n",
      "0.9391666666666667\n",
      "0.9391666666666667\n",
      "0.9391666666666667\n",
      "0.9391666666666667\n",
      "0.9391666666666667\n",
      "0.9391666666666667\n",
      "0.9391666666666667\n",
      "0.9391666666666667\n",
      "0.9391666666666667\n",
      "0.9391666666666667\n",
      "0.9391666666666667\n",
      "0.9391666666666667\n",
      "0.9391666666666667\n",
      "0.9391666666666667\n",
      "0.9391666666666667\n",
      "0.9391666666666667\n",
      "0.9391666666666667\n",
      "0.9391666666666667\n",
      "0.9391666666666667\n",
      "0.9391666666666667\n",
      "0.9391666666666667\n",
      "0.9391666666666667\n",
      "0.9391666666666667\n",
      "0.9391666666666667\n",
      "0.9391666666666667\n",
      "0.9391666666666667\n",
      "0.9391666666666667\n",
      "0.9391666666666667\n",
      "0.9391666666666667\n",
      "0.9391666666666667\n",
      "0.9391666666666667\n",
      "0.9391666666666667\n",
      "0.9391666666666667\n",
      "0.9391666666666667\n",
      "0.9391666666666667\n",
      "0.9391666666666667\n",
      "0.9391666666666667\n",
      "0.9391666666666667\n",
      "0.9391666666666667\n",
      "0.9391666666666667\n",
      "0.9391666666666667\n",
      "0.9391666666666667\n",
      "0.9391666666666667\n",
      "0.9391666666666667\n",
      "0.9391666666666667\n",
      "0.9391666666666667\n",
      "0.9391666666666667\n",
      "0.9391666666666667\n",
      "0.9391666666666667\n",
      "0.9391666666666667\n",
      "0.9391666666666667\n",
      "0.9391666666666667\n",
      "0.9391666666666667\n",
      "0.9391666666666667\n",
      "0.9391666666666667\n",
      "0.9391666666666667\n"
     ]
    }
   ],
   "source": [
    "for i in range(1,785):\n",
    "    pca3=PCA(n_components=i)\n",
    "\n",
    "    X_train_trf3=pca3.fit_transform(X_train_sc)\n",
    "    X_test_trf3 = pca3.transform(X_test_sc)\n",
    "\n",
    "    knn=KNeighborsClassifier()\n",
    "    knn.fit(X_train_trf3, y_train)\n",
    "    y_pred4 = knn.predict(X_test_trf3)\n",
    "\n",
    "    print(accuracy_score(y_test, y_pred4))"
   ]
  },
  {
   "cell_type": "code",
   "execution_count": null,
   "id": "10af30d1",
   "metadata": {
    "papermill": {
     "duration": 0.04377,
     "end_time": "2025-04-19T18:41:21.573618",
     "exception": false,
     "start_time": "2025-04-19T18:41:21.529848",
     "status": "completed"
    },
    "tags": []
   },
   "outputs": [],
   "source": []
  }
 ],
 "metadata": {
  "kaggle": {
   "accelerator": "none",
   "dataSources": [
    {
     "databundleVersionId": 861823,
     "sourceId": 3004,
     "sourceType": "competition"
    }
   ],
   "dockerImageVersionId": 31012,
   "isGpuEnabled": false,
   "isInternetEnabled": false,
   "language": "python",
   "sourceType": "notebook"
  },
  "kernelspec": {
   "display_name": "Python 3",
   "language": "python",
   "name": "python3"
  },
  "language_info": {
   "codemirror_mode": {
    "name": "ipython",
    "version": 3
   },
   "file_extension": ".py",
   "mimetype": "text/x-python",
   "name": "python",
   "nbconvert_exporter": "python",
   "pygments_lexer": "ipython3",
   "version": "3.11.11"
  },
  "papermill": {
   "default_parameters": {},
   "duration": 8239.867202,
   "end_time": "2025-04-19T18:41:22.347252",
   "environment_variables": {},
   "exception": null,
   "input_path": "__notebook__.ipynb",
   "output_path": "__notebook__.ipynb",
   "parameters": {},
   "start_time": "2025-04-19T16:24:02.480050",
   "version": "2.6.0"
  }
 },
 "nbformat": 4,
 "nbformat_minor": 5
}
